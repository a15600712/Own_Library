{
 "cells": [
  {
   "cell_type": "code",
   "execution_count": 5,
   "metadata": {},
   "outputs": [
    {
     "name": "stdout",
     "output_type": "stream",
     "text": [
      "=== Matrix-Vector Multiplication Verification with Center Mod ===\n",
      "\n",
      "Matrix:\n",
      "[4*x^3 + 3*x^2 + 2*x + 1   x^3 + 4*x^2 + 3*x + 2]\n",
      "[8*x^3 + 7*x^2 + 6*x + 5 5*x^3 + 8*x^2 + 7*x + 6]\n",
      "\n",
      "Vector:\n",
      "(4*x^3 + 3*x^2 + 2*x + 1, x^3 + 2*x^2 + 3*x + 4)\n",
      "\n",
      "Result in Center Modulus:\n",
      "\n",
      "Result[0] coefficients:\n",
      "X^0: 4\n",
      "X^1: -8\n",
      "X^2: 5\n",
      "X^3: -7\n",
      "\n",
      "Result[1] coefficients:\n",
      "X^0: -2\n",
      "X^1: -8\n",
      "X^2: -6\n",
      "X^3: 5\n"
     ]
    }
   ],
   "source": [
    "# Define the parameters\n",
    "N = 4  # Ring dimension\n",
    "Q = 17 # Field modulus\n",
    "\n",
    "# Create polynomial ring and quotient ring\n",
    "PR.<X> = PolynomialRing(GF(Q))\n",
    "# For negacyclic NTT, we use X^N + 1\n",
    "R = PR.quotient(X^N + 1, 'x')\n",
    "x = R.gen()\n",
    "\n",
    "# Define matrix entries\n",
    "matrix_entries = [\n",
    "    # First row\n",
    "    [1 + 2*x + 3*x^2 + 4*x^3, 2 + 3*x + 4*x^2 + x^3],\n",
    "    # Second row\n",
    "    [5 + 6*x + 7*x^2 + 8*x^3, 6 + 7*x + 8*x^2 + 5*x^3]\n",
    "]\n",
    "\n",
    "# Create matrix\n",
    "M = matrix(R, 2, 2, matrix_entries)\n",
    "\n",
    "# Define vector entries\n",
    "vector_entries = [1 + 2*x + 3*x^2 + 4*x^3, 4 + 3*x + 2*x^2 + x^3]\n",
    "v = vector(R, vector_entries)\n",
    "\n",
    "# Compute result\n",
    "result = M * v\n",
    "\n",
    "# Center mod function\n",
    "def center_mod(val, modulus):\n",
    "    \"\"\"Adjust a coefficient to the center modulus range [-modulus/2, modulus/2].\"\"\"\n",
    "    half_modulus = modulus // 2\n",
    "    if val > half_modulus:\n",
    "        return val - modulus\n",
    "    elif val < -half_modulus:\n",
    "        return val + modulus\n",
    "    return val\n",
    "\n",
    "# Adjust coefficients to center mod\n",
    "centered_result = []\n",
    "for poly in result:\n",
    "    centered_coeffs = [center_mod(int(c), Q) for c in list(poly)]  # Ensure coefficients are integers\n",
    "    centered_result.append(centered_coeffs)\n",
    "\n",
    "print(\"=== Matrix-Vector Multiplication Verification with Center Mod ===\")\n",
    "print(\"\\nMatrix:\")\n",
    "print(M)\n",
    "print(\"\\nVector:\")\n",
    "print(v)\n",
    "print(\"\\nResult in Center Modulus:\")\n",
    "for i, coeffs in enumerate(centered_result):\n",
    "    print(f\"\\nResult[{i}] coefficients:\")\n",
    "    for j, c in enumerate(coeffs):\n",
    "        if c != 0:\n",
    "            print(f\"X^{j}: {c}\")\n"
   ]
  },
  {
   "cell_type": "code",
   "execution_count": null,
   "metadata": {},
   "outputs": [],
   "source": []
  }
 ],
 "metadata": {
  "kernelspec": {
   "display_name": "SageMath 9.5",
   "language": "sage",
   "name": "sagemath"
  },
  "language_info": {
   "codemirror_mode": {
    "name": "ipython",
    "version": 3
   },
   "file_extension": ".py",
   "mimetype": "text/x-python",
   "name": "python",
   "nbconvert_exporter": "python",
   "pygments_lexer": "ipython3",
   "version": "3.10.12"
  }
 },
 "nbformat": 4,
 "nbformat_minor": 2
}
